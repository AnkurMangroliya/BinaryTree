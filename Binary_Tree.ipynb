{
 "cells": [
  {
   "cell_type": "code",
   "execution_count": 1,
   "id": "a4f8d2dc",
   "metadata": {},
   "outputs": [],
   "source": [
    "class Node:\n",
    "    def __init__(self,value):\n",
    "        self.left = None\n",
    "        self.right= None\n",
    "        self.value = value\n",
    "        \n",
    "class BinaryTree:\n",
    "    def __init__(self):\n",
    "        self.root = None\n",
    "    \n",
    "    def insert(self,value):\n",
    "        if self.root is None:\n",
    "            self.root = Node(value)\n",
    "        else:\n",
    "            self._insert(value,self.root)\n",
    "            \n",
    "    def _insert(self,value,current_node):\n",
    "        if value < current_node.value:\n",
    "            if current_node.left is None:\n",
    "                current_node.left=Node(value)\n",
    "            else:\n",
    "                self._insert(value,current_node.left)\n",
    "        elif value>current_node.value:\n",
    "            if current_node.right is None:\n",
    "                current_node.right=Node(value)\n",
    "            else:\n",
    "                self._insert(value,current_node.right)\n",
    "            \n",
    "    def print_tree(self):\n",
    "        if self.root is not None:\n",
    "            self._print_tree(self.root)\n",
    "    \n",
    "    def _print_tree(self,current_node):\n",
    "        if current_node is not None:\n",
    "            self._print_tree(current_node.left)\n",
    "            print(str(current_node.value))\n",
    "            self._print_tree(current_node.right)\n"
   ]
  },
  {
   "cell_type": "code",
   "execution_count": 2,
   "id": "795f03ce",
   "metadata": {},
   "outputs": [],
   "source": [
    "tree = BinaryTree()"
   ]
  },
  {
   "cell_type": "code",
   "execution_count": 3,
   "id": "d01b3423",
   "metadata": {},
   "outputs": [],
   "source": [
    "tree.insert(5)"
   ]
  },
  {
   "cell_type": "code",
   "execution_count": 4,
   "id": "c2720654",
   "metadata": {},
   "outputs": [],
   "source": [
    "tree.insert(3)\n"
   ]
  },
  {
   "cell_type": "code",
   "execution_count": 5,
   "id": "a47ca007",
   "metadata": {},
   "outputs": [],
   "source": [
    "tree.insert(7)"
   ]
  },
  {
   "cell_type": "code",
   "execution_count": 6,
   "id": "0eecf1a8",
   "metadata": {},
   "outputs": [],
   "source": [
    "tree.insert(1)\n",
    "tree.insert(9)"
   ]
  },
  {
   "cell_type": "code",
   "execution_count": 7,
   "id": "ba8da250",
   "metadata": {},
   "outputs": [
    {
     "name": "stdout",
     "output_type": "stream",
     "text": [
      "1\n",
      "3\n",
      "5\n",
      "7\n",
      "9\n"
     ]
    }
   ],
   "source": [
    "tree.print_tree()\n"
   ]
  },
  {
   "cell_type": "code",
   "execution_count": null,
   "id": "cf75f42c",
   "metadata": {},
   "outputs": [],
   "source": []
  }
 ],
 "metadata": {
  "kernelspec": {
   "display_name": "Python 3 (ipykernel)",
   "language": "python",
   "name": "python3"
  },
  "language_info": {
   "codemirror_mode": {
    "name": "ipython",
    "version": 3
   },
   "file_extension": ".py",
   "mimetype": "text/x-python",
   "name": "python",
   "nbconvert_exporter": "python",
   "pygments_lexer": "ipython3",
   "version": "3.10.8"
  }
 },
 "nbformat": 4,
 "nbformat_minor": 5
}
